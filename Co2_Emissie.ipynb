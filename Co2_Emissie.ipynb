{
  "cells": [
    {
      "cell_type": "code",
      "source": [
        "import pandas as pd\n",
        "import numpy as np\n",
        "import matplotlib.pyplot as plt"
      ],
      "metadata": {
        "id": "bUYQIxFsDEOO"
      },
      "execution_count": null,
      "outputs": []
    },
    {
      "cell_type": "code",
      "source": [
        "from google.colab import drive\n",
        "drive.mount ('/content/drive')"
      ],
      "metadata": {
        "id": "cKje4ilL_m1_",
        "colab": {
          "base_uri": "https://localhost:8080/"
        },
        "outputId": "0a600c34-ff0c-4707-affc-2502ec2bf949"
      },
      "execution_count": null,
      "outputs": [
        {
          "output_type": "stream",
          "name": "stdout",
          "text": [
            "Mounted at /content/drive\n"
          ]
        }
      ]
    },
    {
      "cell_type": "code",
      "source": [
        "%load_ext google.colab.data_table"
      ],
      "metadata": {
        "id": "9E_6smuhA0q6"
      },
      "execution_count": null,
      "outputs": []
    },
    {
      "cell_type": "code",
      "source": [
        "co2_emissie = pd.read_csv(\"/content/drive/MyDrive/RawData/co2_emissions.csv\", delimiter=\",\")\n",
        "co2_emissie"
      ],
      "metadata": {
        "id": "JlQBJgh4AN6R"
      },
      "execution_count": null,
      "outputs": []
    },
    {
      "cell_type": "code",
      "source": [
        "co2_emissie.columns = ['country', '1990','2005','2017','2021']\n",
        "co2_emissie"
      ],
      "metadata": {
        "id": "9P-jVzOORfTB"
      },
      "execution_count": null,
      "outputs": []
    },
    {
      "cell_type": "code",
      "source": [
        "all_countries = co2_emissie.loc [3:]\n",
        "all_countries"
      ],
      "metadata": {
        "id": "oAZ_YgvUTUfQ"
      },
      "execution_count": null,
      "outputs": []
    },
    {
      "cell_type": "code",
      "source": [
        "largest_countries = all_countries.sort_values(by='2021', ascending=False)\n",
        "top_5 = largest_countries.iloc[[0,1,4,5,6]]\n",
        "top_5"
      ],
      "metadata": {
        "id": "ipXxysEwXnQb"
      },
      "execution_count": null,
      "outputs": []
    },
    {
      "cell_type": "code",
      "source": [
        "# Graph 1: CO2 of the bigger countries\n",
        "\n",
        "top_5.set_index('country', inplace=True)\n",
        "\n",
        "ax = top_5.T.plot()\n",
        "plt.show()"
      ],
      "metadata": {
        "id": "LJsmp6aNY0GB"
      },
      "execution_count": null,
      "outputs": []
    },
    {
      "cell_type": "code",
      "source": [
        "new_total = all_countries.loc [0:,'country':]"
      ],
      "metadata": {
        "id": "zjwNy2mIM-H9"
      },
      "execution_count": null,
      "outputs": []
    },
    {
      "cell_type": "code",
      "source": [
        "new_total['verschil na 15 jaar'] = new_total['2005'] / new_total['1990']*100\n",
        "new_total['verschil na 27 jaar'] = new_total['2017'] / new_total['1990']*100\n",
        "new_total['verschil na 31 jaar'] = new_total['2021'] / new_total['1990']*100\n",
        "new_total"
      ],
      "metadata": {
        "id": "Un1nUvLTNgnO"
      },
      "execution_count": null,
      "outputs": []
    },
    {
      "cell_type": "code",
      "source": [
        "all_countries2 = new_total.loc [0:,'country':]\n",
        "all_countries2"
      ],
      "metadata": {
        "id": "IFOhg5IcHOB0"
      },
      "execution_count": null,
      "outputs": []
    },
    {
      "cell_type": "code",
      "source": [
        "all_countries3 = all_countries2.loc[0:,['country','verschil na 15 jaar','verschil na 27 jaar', 'verschil na 31 jaar']]\n",
        "all_countries3"
      ],
      "metadata": {
        "id": "0AnjJVf2YZxT"
      },
      "execution_count": null,
      "outputs": []
    },
    {
      "cell_type": "code",
      "source": [
        "worst_and_best = all_countries3.sort_values(by='verschil na 31 jaar', ascending=False)\n",
        "top_bottem = pd.concat([worst_and_best.head(3), worst_and_best.tail(3)])\n",
        "top_bottem"
      ],
      "metadata": {
        "id": "7MeZakCKPo44"
      },
      "execution_count": null,
      "outputs": []
    },
    {
      "cell_type": "code",
      "source": [
        "# Graph 2: worst and best changers\n",
        "\n",
        "top_bottem.set_index('country', inplace=True)\n",
        "\n",
        "ax = top_bottem.T.plot()\n",
        "plt.ylim(-100, 10000)\n",
        "plt.show()"
      ],
      "metadata": {
        "id": "vXQvIVVsPdN0"
      },
      "execution_count": null,
      "outputs": []
    },
    {
      "cell_type": "code",
      "source": [
        "filtered_data = all_countries2[all_countries2['1990'] > 5]\n",
        "filtered_data"
      ],
      "metadata": {
        "id": "NS1orvYGydtP"
      },
      "execution_count": null,
      "outputs": []
    },
    {
      "cell_type": "code",
      "source": [
        "worst_and_best2 = filtered_data.sort_values(by='1990', ascending=False)\n",
        "top_bottem2 = pd.concat([worst_and_best2.head(3), worst_and_best2.tail(3)])\n",
        "top_bottem2"
      ],
      "metadata": {
        "id": "geGipBvjy1vD"
      },
      "execution_count": null,
      "outputs": []
    },
    {
      "cell_type": "code",
      "source": [
        "all_countries4 = top_bottem2.loc[:,['country','verschil na 15 jaar','verschil na 27 jaar', 'verschil na 31 jaar']]\n",
        "all_countries4"
      ],
      "metadata": {
        "id": "h2XH6Dzu8ebR"
      },
      "execution_count": null,
      "outputs": []
    },
    {
      "cell_type": "code",
      "source": [
        "# Graph 3: worst and best changers above 5 Mt\n",
        "all_countries4.set_index('country', inplace=True)\n",
        "\n",
        "ax = all_countries4.T.plot()\n",
        "plt.ylim(0, 600)\n",
        "plt.show()"
      ],
      "metadata": {
        "id": "tvo8QiY_R32v"
      },
      "execution_count": null,
      "outputs": []
    }
  ],
  "metadata": {
    "colab": {
      "provenance": []
    },
    "kernelspec": {
      "display_name": "Python 3",
      "name": "python3"
    }
  },
  "nbformat": 4,
  "nbformat_minor": 0
}